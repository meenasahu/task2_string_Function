{
 "cells": [
  {
   "cell_type": "markdown",
   "id": "9aa8cb24-d961-42d6-bf8a-281530a0179e",
   "metadata": {},
   "source": [
    "capitalize(): these method capitalizes the first letter of a string and return a new string "
   ]
  },
  {
   "cell_type": "code",
   "execution_count": 4,
   "id": "7233c582-b0a1-415a-9870-58861c44f4c9",
   "metadata": {},
   "outputs": [
    {
     "name": "stdout",
     "output_type": "stream",
     "text": [
      "This is a laptop\n"
     ]
    }
   ],
   "source": [
    "text=\"this is a laptop\"\n",
    "print(text.capitalize())"
   ]
  },
  {
   "cell_type": "markdown",
   "id": "ba98ce5e-414d-4037-94fd-1c34e64460c6",
   "metadata": {},
   "source": [
    "upper() and lower(): these methods returns a new string with all character converted to uppercase or lowercase ,respectively"
   ]
  },
  {
   "cell_type": "code",
   "execution_count": 6,
   "id": "d24fd1c6-4273-441a-961a-8db82db88ab9",
   "metadata": {},
   "outputs": [
    {
     "name": "stdout",
     "output_type": "stream",
     "text": [
      "STRING METHODS\n"
     ]
    }
   ],
   "source": [
    "text=\"String Methods\"\n",
    "print(text.upper())"
   ]
  },
  {
   "cell_type": "code",
   "execution_count": 8,
   "id": "b8190275-fef8-4a21-8daf-6f748437db3f",
   "metadata": {},
   "outputs": [
    {
     "name": "stdout",
     "output_type": "stream",
     "text": [
      "string method \n"
     ]
    }
   ],
   "source": [
    "text=\"String Method \"\n",
    "print(text.lower())"
   ]
  },
  {
   "cell_type": "markdown",
   "id": "d84eb243-beb6-4f58-a85b-0b7950ead7a3",
   "metadata": {},
   "source": [
    "strip():This Method removes any leading and trailing whitespace from a string."
   ]
  },
  {
   "cell_type": "code",
   "execution_count": 12,
   "id": "5fb4e5c2-bfa9-4b32-aa4e-8ee82d081d1c",
   "metadata": {},
   "outputs": [
    {
     "name": "stdout",
     "output_type": "stream",
     "text": [
      "String Method\n"
     ]
    }
   ],
   "source": [
    "text=\"    String Method   \"\n",
    "print(text.strip())"
   ]
  },
  {
   "cell_type": "markdown",
   "id": "2d9fcb40-fd20-4912-8776-157778db932f",
   "metadata": {},
   "source": [
    "replace(old,new):this method returns a new string where all occurences of the old substring are replaced with the new substring"
   ]
  },
  {
   "cell_type": "code",
   "execution_count": 14,
   "id": "3f3203da-6d23-4e4b-834b-74f5804dd480",
   "metadata": {},
   "outputs": [
    {
     "name": "stdout",
     "output_type": "stream",
     "text": [
      "Hello PYTHON \n"
     ]
    }
   ],
   "source": [
    "text=\"Hello Visual Studia Code \"\n",
    "print(text.replace(\"Visual Studia Code\",\"PYTHON\"))"
   ]
  },
  {
   "cell_type": "markdown",
   "id": "a5a24935-fcac-4a64-95e6-e7d9260766b0",
   "metadata": {},
   "source": [
    "split(separator):this method splits a string into a list of substring based on the specified separator"
   ]
  },
  {
   "cell_type": "code",
   "execution_count": 18,
   "id": "774dcdf6-083a-40db-a6fc-b06eae8fc615",
   "metadata": {},
   "outputs": [
    {
     "name": "stdout",
     "output_type": "stream",
     "text": [
      "['New', 'Beginning']\n"
     ]
    }
   ],
   "source": [
    "text=\"New Beginning\"\n",
    "print(text.split(\" \"))"
   ]
  },
  {
   "cell_type": "markdown",
   "id": "1ca47b09-c6b3-4ccc-ba3b-19fbe4276d7a",
   "metadata": {},
   "source": [
    "join(iterable):this method joins an iterable of string into a single string with the string as the separator "
   ]
  },
  {
   "cell_type": "code",
   "execution_count": 46,
   "id": "72863312-9e3e-486f-b049-c6c5be5b5871",
   "metadata": {},
   "outputs": [
    {
     "name": "stdout",
     "output_type": "stream",
     "text": [
      "python conceived by Guido van Rossum\n"
     ]
    }
   ],
   "source": [
    "words=[\"python conceived \"  , \"by \" ,\"Guido van Rossum\"]\n",
    "#print(words.join(\"words\"))\n",
    "print(\"\".join(words))\n",
    "\n"
   ]
  },
  {
   "cell_type": "markdown",
   "id": "eb1b24a4-8f25-4504-ae24-441d9e54fb35",
   "metadata": {},
   "source": [
    "find(sub):this method returns the lowest index in the string where the substring sub is found "
   ]
  },
  {
   "cell_type": "code",
   "execution_count": 48,
   "id": "41fd42e5-3be5-44e3-bed2-7197ad18ad44",
   "metadata": {},
   "outputs": [
    {
     "name": "stdout",
     "output_type": "stream",
     "text": [
      "7\n"
     ]
    }
   ],
   "source": [
    "text=\"Module Reference\"\n",
    "print(text.find(\"Reference\"))"
   ]
  },
  {
   "cell_type": "markdown",
   "id": "e4a415d7-37f1-4143-8dd7-57649195d8cf",
   "metadata": {},
   "source": [
    "startswith(prefix) and endswith (suffix): these methods return \"true \"if the string starts or ends with the specified prefix or suffix ,respectively"
   ]
  },
  {
   "cell_type": "code",
   "execution_count": 55,
   "id": "cdde6af5-1195-44f5-b5c6-a36b800316d1",
   "metadata": {},
   "outputs": [
    {
     "name": "stdout",
     "output_type": "stream",
     "text": [
      "True\n",
      "False\n"
     ]
    }
   ],
   "source": [
    "text=\"Hello World\"\n",
    "print(text.startswith(\"Hello\"))\n",
    "print(text.endswith(\"python\"))"
   ]
  },
  {
   "cell_type": "markdown",
   "id": "318d7011-67e1-41ec-9113-a3d3dff2431a",
   "metadata": {},
   "source": [
    "casefold(): converts all character of a string to lowercase in a more aggressive mammer than lower()"
   ]
  },
  {
   "cell_type": "code",
   "execution_count": 67,
   "id": "619d467b-8987-4217-8dcf-ef4af76553bc",
   "metadata": {},
   "outputs": [
    {
     "name": "stdout",
     "output_type": "stream",
     "text": [
      "all string method returns a new value\n"
     ]
    }
   ],
   "source": [
    "text=\"ALL STRING METHOD RETURNS A NEW VALUE\"\n",
    "output=text.casefold()\n",
    "\n",
    "print(output)"
   ]
  },
  {
   "cell_type": "markdown",
   "id": "4182978d-5fff-4839-817d-985355e7547f",
   "metadata": {},
   "source": [
    "center():centers the string with a specified width and fills the remaining space with a specified character"
   ]
  },
  {
   "cell_type": "code",
   "execution_count": 94,
   "id": "7317db8d-e050-4ce0-95e3-14e232bd6bf0",
   "metadata": {},
   "outputs": [
    {
     "name": "stdout",
     "output_type": "stream",
     "text": [
      "**Hello***\n"
     ]
    }
   ],
   "source": [
    "var=\"Hello\"\n",
    "result=var.center(10,\"*\")\n",
    "print(result)"
   ]
  },
  {
   "cell_type": "markdown",
   "id": "54f9d82f-30f6-46e4-82bb-15eeba745c97",
   "metadata": {},
   "source": [
    "count():returns the number of non overlapping occurences of a substring within the string "
   ]
  },
  {
   "cell_type": "code",
   "execution_count": 100,
   "id": "8bb1340d-a309-4dc5-8235-58a4151d601b",
   "metadata": {},
   "outputs": [
    {
     "name": "stdout",
     "output_type": "stream",
     "text": [
      "2\n"
     ]
    }
   ],
   "source": [
    "text='hello moto!hello'\n",
    "print(text.count('hello'))"
   ]
  },
  {
   "cell_type": "markdown",
   "id": "f0dbebfe-0623-42ce-b676-6ac45b63258e",
   "metadata": {},
   "source": [
    "encode(): encodes the string into bytes using the specified encoding"
   ]
  },
  {
   "cell_type": "code",
   "execution_count": 104,
   "id": "61891765-a862-48fb-9fd1-3ab401f3ad86",
   "metadata": {},
   "outputs": [
    {
     "name": "stdout",
     "output_type": "stream",
     "text": [
      "b'Request Module'\n"
     ]
    }
   ],
   "source": [
    "texc=\"Request Module\"\n",
    "encoded=texc.encode('utf-8')\n",
    "print(encoded)\n"
   ]
  },
  {
   "cell_type": "markdown",
   "id": "05e4026a-d77b-4c34-8242-5c23c96ceb28",
   "metadata": {},
   "source": [
    "format():it formats the string by substituting placegolders ({}) with specified values"
   ]
  },
  {
   "cell_type": "code",
   "execution_count": 106,
   "id": "f86d55e0-1200-4501-8137-3b00dfde6815",
   "metadata": {},
   "outputs": [
    {
     "name": "stdout",
     "output_type": "stream",
     "text": [
      "hello,radha.please come here sit\n"
     ]
    }
   ],
   "source": [
    "text=\"hello,{}.please come here {}\"\n",
    "formatted=text.format(\"radha\",\"sit\")\n",
    "print(formatted)"
   ]
  },
  {
   "cell_type": "markdown",
   "id": "f3a53d2c-2e34-4790-aee9-19206a99c83a",
   "metadata": {},
   "source": [
    "index():returns the index of the first ocuurences of a substring "
   ]
  },
  {
   "cell_type": "code",
   "execution_count": 112,
   "id": "31f3c939-c279-4327-9a4f-436955eb75fd",
   "metadata": {},
   "outputs": [
    {
     "name": "stdout",
     "output_type": "stream",
     "text": [
      "6\n"
     ]
    }
   ],
   "source": [
    "text=\"index,world\"\n",
    "print(text.index(\"world\"))"
   ]
  },
  {
   "cell_type": "markdown",
   "id": "1c836c11-fda5-4875-a625-68100f9ab7a0",
   "metadata": {},
   "source": [
    "isnumeric():returns the true if all character isn the string are numeric"
   ]
  },
  {
   "cell_type": "code",
   "execution_count": 116,
   "id": "0876f2c0-233b-4b30-9959-96e11f54a669",
   "metadata": {},
   "outputs": [
    {
     "name": "stdout",
     "output_type": "stream",
     "text": [
      "True\n"
     ]
    }
   ],
   "source": [
    "text='123344'\n",
    "is_numeric=text.isnumeric()\n",
    "print(is_numeric)"
   ]
  },
  {
   "cell_type": "code",
   "execution_count": null,
   "id": "9f348e65-fd76-4ec4-9e9d-580e39ba8c38",
   "metadata": {},
   "outputs": [],
   "source": []
  }
 ],
 "metadata": {
  "kernelspec": {
   "display_name": "Python 3 (ipykernel)",
   "language": "python",
   "name": "python3"
  },
  "language_info": {
   "codemirror_mode": {
    "name": "ipython",
    "version": 3
   },
   "file_extension": ".py",
   "mimetype": "text/x-python",
   "name": "python",
   "nbconvert_exporter": "python",
   "pygments_lexer": "ipython3",
   "version": "3.12.4"
  }
 },
 "nbformat": 4,
 "nbformat_minor": 5
}
